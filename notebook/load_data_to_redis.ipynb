{
 "cells": [
  {
   "cell_type": "markdown",
   "id": "5c4cb2f1-ffc6-40ac-8c2b-cb3a12539093",
   "metadata": {},
   "source": [
    "# Load Data to Redis Cloud"
   ]
  },
  {
   "cell_type": "code",
   "execution_count": 1,
   "id": "6faac8dc-a47b-410c-a554-58dcec0b2429",
   "metadata": {},
   "outputs": [],
   "source": [
    "#!/usr/bin/env python3\n",
    "import typing as t\n",
    "import asyncio\n",
    "import numpy as np\n",
    "import pickle\n",
    "import redis.asyncio as redis\n",
    "\n",
    "from redis.commands.search.field import TagField"
   ]
  },
  {
   "cell_type": "code",
   "execution_count": 2,
   "id": "e6b1f7fd-e3c0-44ed-9205-d461ca2b2e3e",
   "metadata": {},
   "outputs": [],
   "source": [
    "import os\n",
    "import sys\n",
    "module_path = os.path.abspath(os.path.join('..'))\n",
    "if module_path not in sys.path:\n",
    "    sys.path.append(module_path)"
   ]
  },
  {
   "cell_type": "code",
   "execution_count": 3,
   "id": "537a9f2f-cc52-40bd-943c-b9d0e149dc86",
   "metadata": {},
   "outputs": [],
   "source": [
    "from models import Paper\n",
    "from search_index import SearchIndex\n",
    "import config"
   ]
  },
  {
   "cell_type": "code",
   "execution_count": 4,
   "id": "616a2955-ae8c-410d-9f5b-f80a51483cb5",
   "metadata": {},
   "outputs": [],
   "source": [
    "def read_paper_df() -> t.List:\n",
    "    with open(config.DATA_LOCATION + \"/arxiv_embeddings_without_cutoff.pkl\", \"rb\") as f:\n",
    "        df = pickle.load(f)\n",
    "    return df\n"
   ]
  },
  {
   "cell_type": "code",
   "execution_count": 5,
   "id": "22403de6-c91f-4864-94b1-38c32388c936",
   "metadata": {},
   "outputs": [],
   "source": [
    "df = read_paper_df()"
   ]
  },
  {
   "cell_type": "code",
   "execution_count": 6,
   "id": "9f3a2934-4df3-458b-8e89-44f46950b24a",
   "metadata": {},
   "outputs": [
    {
     "data": {
      "text/html": [
       "<div>\n",
       "<style scoped>\n",
       "    .dataframe tbody tr th:only-of-type {\n",
       "        vertical-align: middle;\n",
       "    }\n",
       "\n",
       "    .dataframe tbody tr th {\n",
       "        vertical-align: top;\n",
       "    }\n",
       "\n",
       "    .dataframe thead th {\n",
       "        text-align: right;\n",
       "    }\n",
       "</style>\n",
       "<table border=\"1\" class=\"dataframe\">\n",
       "  <thead>\n",
       "    <tr style=\"text-align: right;\">\n",
       "      <th></th>\n",
       "      <th>id</th>\n",
       "      <th>title</th>\n",
       "      <th>year</th>\n",
       "      <th>authors</th>\n",
       "      <th>categories</th>\n",
       "      <th>abstract</th>\n",
       "      <th>vector</th>\n",
       "    </tr>\n",
       "  </thead>\n",
       "  <tbody>\n",
       "    <tr>\n",
       "      <th>0</th>\n",
       "      <td>0704.0304</td>\n",
       "      <td>The World as Evolving Information</td>\n",
       "      <td>2012</td>\n",
       "      <td>Carlos Gershenson</td>\n",
       "      <td>cs.IT,cs.AI,math.IT,q-bio.PE</td>\n",
       "      <td>This paper discusses the benefits of describ...</td>\n",
       "      <td>[-0.011167259886860847, -0.026415932923555374,...</td>\n",
       "    </tr>\n",
       "    <tr>\n",
       "      <th>1</th>\n",
       "      <td>0704.0865</td>\n",
       "      <td>An architecture-based dependability modeling f...</td>\n",
       "      <td>2006</td>\n",
       "      <td>Ana-Elena Rugina (LAAS), Karama Kanoun (LAAS),...</td>\n",
       "      <td>cs.PF,cs.SE</td>\n",
       "      <td>For efficiency reasons, the software system ...</td>\n",
       "      <td>[0.02402251772582531, -0.003231793874874711, -...</td>\n",
       "    </tr>\n",
       "    <tr>\n",
       "      <th>2</th>\n",
       "      <td>0704.1267</td>\n",
       "      <td>Text Line Segmentation of Historical Documents...</td>\n",
       "      <td>2007</td>\n",
       "      <td>Laurence Likforman-Sulem, Abderrazak Zahour, B...</td>\n",
       "      <td>cs.CV</td>\n",
       "      <td>There is a huge amount of historical documen...</td>\n",
       "      <td>[-0.0011464570416137576, 0.04184567928314209, ...</td>\n",
       "    </tr>\n",
       "    <tr>\n",
       "      <th>3</th>\n",
       "      <td>0704.2092</td>\n",
       "      <td>A Note on the Inapproximability of Correlation...</td>\n",
       "      <td>2008</td>\n",
       "      <td>Jinsong Tan</td>\n",
       "      <td>cs.LG,cs.DS</td>\n",
       "      <td>We consider inapproximability of the correla...</td>\n",
       "      <td>[0.005469118244946003, -0.013095404952764511, ...</td>\n",
       "    </tr>\n",
       "    <tr>\n",
       "      <th>4</th>\n",
       "      <td>0704.3395</td>\n",
       "      <td>General-Purpose Computing on a Semantic Networ...</td>\n",
       "      <td>2010</td>\n",
       "      <td>Marko A. Rodriguez</td>\n",
       "      <td>cs.AI,cs.PL</td>\n",
       "      <td>This article presents a model of general-pur...</td>\n",
       "      <td>[0.037214089184999466, -0.029926029965281487, ...</td>\n",
       "    </tr>\n",
       "  </tbody>\n",
       "</table>\n",
       "</div>"
      ],
      "text/plain": [
       "          id                                              title  year  \\\n",
       "0  0704.0304                  The World as Evolving Information  2012   \n",
       "1  0704.0865  An architecture-based dependability modeling f...  2006   \n",
       "2  0704.1267  Text Line Segmentation of Historical Documents...  2007   \n",
       "3  0704.2092  A Note on the Inapproximability of Correlation...  2008   \n",
       "4  0704.3395  General-Purpose Computing on a Semantic Networ...  2010   \n",
       "\n",
       "                                             authors  \\\n",
       "0                                  Carlos Gershenson   \n",
       "1  Ana-Elena Rugina (LAAS), Karama Kanoun (LAAS),...   \n",
       "2  Laurence Likforman-Sulem, Abderrazak Zahour, B...   \n",
       "3                                        Jinsong Tan   \n",
       "4                                 Marko A. Rodriguez   \n",
       "\n",
       "                     categories  \\\n",
       "0  cs.IT,cs.AI,math.IT,q-bio.PE   \n",
       "1                   cs.PF,cs.SE   \n",
       "2                         cs.CV   \n",
       "3                   cs.LG,cs.DS   \n",
       "4                   cs.AI,cs.PL   \n",
       "\n",
       "                                            abstract  \\\n",
       "0    This paper discusses the benefits of describ...   \n",
       "1    For efficiency reasons, the software system ...   \n",
       "2    There is a huge amount of historical documen...   \n",
       "3    We consider inapproximability of the correla...   \n",
       "4    This article presents a model of general-pur...   \n",
       "\n",
       "                                              vector  \n",
       "0  [-0.011167259886860847, -0.026415932923555374,...  \n",
       "1  [0.02402251772582531, -0.003231793874874711, -...  \n",
       "2  [-0.0011464570416137576, 0.04184567928314209, ...  \n",
       "3  [0.005469118244946003, -0.013095404952764511, ...  \n",
       "4  [0.037214089184999466, -0.029926029965281487, ...  "
      ]
     },
     "execution_count": 6,
     "metadata": {},
     "output_type": "execute_result"
    }
   ],
   "source": [
    "df.head()"
   ]
  },
  {
   "cell_type": "code",
   "execution_count": 7,
   "id": "9431560d-ab4e-4b76-875a-42516246b679",
   "metadata": {},
   "outputs": [
    {
     "data": {
      "text/plain": [
       "768"
      ]
     },
     "execution_count": 7,
     "metadata": {},
     "output_type": "execute_result"
    }
   ],
   "source": [
    "len(df.vector[0])"
   ]
  },
  {
   "cell_type": "code",
   "execution_count": 15,
   "id": "89484270-22d9-4f93-83ed-24f739fd93b4",
   "metadata": {},
   "outputs": [],
   "source": [
    "from tqdm import tqdm"
   ]
  },
  {
   "cell_type": "code",
   "execution_count": 18,
   "id": "16366d2e-0274-4ed4-9d4a-68aca693acdc",
   "metadata": {},
   "outputs": [],
   "source": [
    "def gather_with_concurrency(n, redis_conn, *papers):\n",
    "    def load_paper(paper):\n",
    "            vector = paper.pop('vector')\n",
    "            paper['paper_id'] = paper.pop('id')\n",
    "            # TODO - we need to be able to use other separators\n",
    "            paper['categories'] = paper['categories'].replace(\",\", \"|\")\n",
    "            p = Paper(**paper)\n",
    "            # save model TODO -- combine these two objects eventually\n",
    "            p.save()\n",
    "            # save vector data\n",
    "            key = \"paper_vector:\" + str(p.paper_id)\n",
    "            redis_conn.hset(\n",
    "                key,\n",
    "                mapping={\n",
    "                    \"paper_pk\": p.pk,\n",
    "                    \"paper_id\": p.paper_id,\n",
    "                    \"categories\": p.categories,\n",
    "                    \"year\": p.year,\n",
    "                    \"vector\": np.array(vector, dtype=np.float32).tobytes(),\n",
    "            })\n",
    "            \n",
    "    for p in tqdm(papers):\n",
    "        load_paper(p)\n",
    "\n",
    "def load_all_data():\n",
    "    # TODO use redis-om connection\n",
    "    redis_conn = redis.from_url(config.REDIS_URL)\n",
    "    search_index = SearchIndex()\n",
    "    print(\"Loading papers into Simpa App\")\n",
    "    papers = read_paper_df()\n",
    "    papers = papers.to_dict('records')\n",
    "    gather_with_concurrency(100, redis_conn, *papers)\n",
    "\n",
    "\n",
    "    print(\"Creating vector search index\")\n",
    "    categories_field = TagField(\"categories\", separator = \"|\")\n",
    "    year_field = TagField(\"year\", separator = \"|\")\n",
    "    # create a search index\n",
    "    if config.INDEX_TYPE == \"HNSW\":\n",
    "        search_index.create_hnsw(\n",
    "            categories_field,\n",
    "            year_field,\n",
    "            redis_conn=redis_conn,\n",
    "            number_of_vectors=len(papers),\n",
    "            prefix=\"paper_vector:\",\n",
    "            distance_metric=\"IP\",\n",
    "        )\n",
    "    else:\n",
    "         search_index.create_flat(\n",
    "            categories_field,\n",
    "            year_field,\n",
    "            redis_conn=redis_conn,\n",
    "            number_of_vectors=len(papers),\n",
    "            prefix=\"paper_vector:\",\n",
    "            distance_metric=\"IP\",\n",
    "        )\n",
    "    print(\"Search index created\")"
   ]
  },
  {
   "cell_type": "code",
   "execution_count": 19,
   "id": "95938a29-ff92-4b35-8530-a5e6fc504e02",
   "metadata": {},
   "outputs": [
    {
     "name": "stdout",
     "output_type": "stream",
     "text": [
      "Loading papers into Simpa App\n"
     ]
    },
    {
     "name": "stderr",
     "output_type": "stream",
     "text": [
      "  0%|                                                                                             | 0/30186 [00:00<?, ?it/s]/Users/ilhamputra/.pyenv/versions/3.7.13/lib/python3.7/site-packages/ipykernel_launcher.py:9: RuntimeWarning: coroutine 'HashModel.save' was never awaited\n",
      "  if __name__ == \"__main__\":\n",
      "RuntimeWarning: Enable tracemalloc to get the object allocation traceback\n",
      "/Users/ilhamputra/.pyenv/versions/3.7.13/lib/python3.7/site-packages/ipykernel_launcher.py:19: RuntimeWarning: coroutine 'Redis.execute_command' was never awaited\n",
      "RuntimeWarning: Enable tracemalloc to get the object allocation traceback\n",
      "100%|███████████████████████████████████████████████████████████████████████████████| 30186/30186 [00:03<00:00, 9479.07it/s]"
     ]
    },
    {
     "name": "stdout",
     "output_type": "stream",
     "text": [
      "Creating vector search index\n",
      "Search index created\n"
     ]
    },
    {
     "name": "stderr",
     "output_type": "stream",
     "text": [
      "\n",
      "/Users/ilhamputra/.pyenv/versions/3.7.13/lib/python3.7/site-packages/ipykernel_launcher.py:46: RuntimeWarning: coroutine 'SearchIndex.create_hnsw' was never awaited\n",
      "RuntimeWarning: Enable tracemalloc to get the object allocation traceback\n"
     ]
    }
   ],
   "source": [
    "load_all_data()"
   ]
  },
  {
   "cell_type": "code",
   "execution_count": 20,
   "id": "71c7f0d3-7f90-45ba-aee4-4f740a0059dc",
   "metadata": {},
   "outputs": [],
   "source": [
    "redis_conn = redis.from_url(config.REDIS_URL)"
   ]
  },
  {
   "cell_type": "code",
   "execution_count": 21,
   "id": "818d3522-1402-4bab-a565-9bc4af77d9c2",
   "metadata": {},
   "outputs": [
    {
     "data": {
      "text/plain": [
       "<coroutine object Redis.execute_command at 0x1bb741d40>"
      ]
     },
     "execution_count": 21,
     "metadata": {},
     "output_type": "execute_result"
    }
   ],
   "source": [
    "redis_conn.ping()"
   ]
  },
  {
   "cell_type": "code",
   "execution_count": 22,
   "id": "4b4d461a-8e32-4af1-9444-2baceebd8d69",
   "metadata": {},
   "outputs": [],
   "source": [
    "papers = read_paper_df()"
   ]
  },
  {
   "cell_type": "code",
   "execution_count": 23,
   "id": "ab2c8375-8652-4a7d-998e-1e590cb76177",
   "metadata": {},
   "outputs": [
    {
     "data": {
      "text/html": [
       "<div>\n",
       "<style scoped>\n",
       "    .dataframe tbody tr th:only-of-type {\n",
       "        vertical-align: middle;\n",
       "    }\n",
       "\n",
       "    .dataframe tbody tr th {\n",
       "        vertical-align: top;\n",
       "    }\n",
       "\n",
       "    .dataframe thead th {\n",
       "        text-align: right;\n",
       "    }\n",
       "</style>\n",
       "<table border=\"1\" class=\"dataframe\">\n",
       "  <thead>\n",
       "    <tr style=\"text-align: right;\">\n",
       "      <th></th>\n",
       "      <th>id</th>\n",
       "      <th>title</th>\n",
       "      <th>year</th>\n",
       "      <th>authors</th>\n",
       "      <th>categories</th>\n",
       "      <th>abstract</th>\n",
       "      <th>vector</th>\n",
       "    </tr>\n",
       "  </thead>\n",
       "  <tbody>\n",
       "    <tr>\n",
       "      <th>0</th>\n",
       "      <td>0704.0304</td>\n",
       "      <td>The World as Evolving Information</td>\n",
       "      <td>2012</td>\n",
       "      <td>Carlos Gershenson</td>\n",
       "      <td>cs.IT,cs.AI,math.IT,q-bio.PE</td>\n",
       "      <td>This paper discusses the benefits of describ...</td>\n",
       "      <td>[-0.011167259886860847, -0.026415932923555374,...</td>\n",
       "    </tr>\n",
       "    <tr>\n",
       "      <th>1</th>\n",
       "      <td>0704.0865</td>\n",
       "      <td>An architecture-based dependability modeling f...</td>\n",
       "      <td>2006</td>\n",
       "      <td>Ana-Elena Rugina (LAAS), Karama Kanoun (LAAS),...</td>\n",
       "      <td>cs.PF,cs.SE</td>\n",
       "      <td>For efficiency reasons, the software system ...</td>\n",
       "      <td>[0.02402251772582531, -0.003231793874874711, -...</td>\n",
       "    </tr>\n",
       "    <tr>\n",
       "      <th>2</th>\n",
       "      <td>0704.1267</td>\n",
       "      <td>Text Line Segmentation of Historical Documents...</td>\n",
       "      <td>2007</td>\n",
       "      <td>Laurence Likforman-Sulem, Abderrazak Zahour, B...</td>\n",
       "      <td>cs.CV</td>\n",
       "      <td>There is a huge amount of historical documen...</td>\n",
       "      <td>[-0.0011464570416137576, 0.04184567928314209, ...</td>\n",
       "    </tr>\n",
       "    <tr>\n",
       "      <th>3</th>\n",
       "      <td>0704.2092</td>\n",
       "      <td>A Note on the Inapproximability of Correlation...</td>\n",
       "      <td>2008</td>\n",
       "      <td>Jinsong Tan</td>\n",
       "      <td>cs.LG,cs.DS</td>\n",
       "      <td>We consider inapproximability of the correla...</td>\n",
       "      <td>[0.005469118244946003, -0.013095404952764511, ...</td>\n",
       "    </tr>\n",
       "    <tr>\n",
       "      <th>4</th>\n",
       "      <td>0704.3395</td>\n",
       "      <td>General-Purpose Computing on a Semantic Networ...</td>\n",
       "      <td>2010</td>\n",
       "      <td>Marko A. Rodriguez</td>\n",
       "      <td>cs.AI,cs.PL</td>\n",
       "      <td>This article presents a model of general-pur...</td>\n",
       "      <td>[0.037214089184999466, -0.029926029965281487, ...</td>\n",
       "    </tr>\n",
       "  </tbody>\n",
       "</table>\n",
       "</div>"
      ],
      "text/plain": [
       "          id                                              title  year  \\\n",
       "0  0704.0304                  The World as Evolving Information  2012   \n",
       "1  0704.0865  An architecture-based dependability modeling f...  2006   \n",
       "2  0704.1267  Text Line Segmentation of Historical Documents...  2007   \n",
       "3  0704.2092  A Note on the Inapproximability of Correlation...  2008   \n",
       "4  0704.3395  General-Purpose Computing on a Semantic Networ...  2010   \n",
       "\n",
       "                                             authors  \\\n",
       "0                                  Carlos Gershenson   \n",
       "1  Ana-Elena Rugina (LAAS), Karama Kanoun (LAAS),...   \n",
       "2  Laurence Likforman-Sulem, Abderrazak Zahour, B...   \n",
       "3                                        Jinsong Tan   \n",
       "4                                 Marko A. Rodriguez   \n",
       "\n",
       "                     categories  \\\n",
       "0  cs.IT,cs.AI,math.IT,q-bio.PE   \n",
       "1                   cs.PF,cs.SE   \n",
       "2                         cs.CV   \n",
       "3                   cs.LG,cs.DS   \n",
       "4                   cs.AI,cs.PL   \n",
       "\n",
       "                                            abstract  \\\n",
       "0    This paper discusses the benefits of describ...   \n",
       "1    For efficiency reasons, the software system ...   \n",
       "2    There is a huge amount of historical documen...   \n",
       "3    We consider inapproximability of the correla...   \n",
       "4    This article presents a model of general-pur...   \n",
       "\n",
       "                                              vector  \n",
       "0  [-0.011167259886860847, -0.026415932923555374,...  \n",
       "1  [0.02402251772582531, -0.003231793874874711, -...  \n",
       "2  [-0.0011464570416137576, 0.04184567928314209, ...  \n",
       "3  [0.005469118244946003, -0.013095404952764511, ...  \n",
       "4  [0.037214089184999466, -0.029926029965281487, ...  "
      ]
     },
     "execution_count": 23,
     "metadata": {},
     "output_type": "execute_result"
    }
   ],
   "source": [
    "papers.head()"
   ]
  },
  {
   "cell_type": "code",
   "execution_count": 4,
   "id": "33025bc6-b3f4-41d7-9f24-e15a9d096d29",
   "metadata": {},
   "outputs": [],
   "source": [
    "redis_client = redis.from_url(config.REDIS_URL)"
   ]
  },
  {
   "cell_type": "code",
   "execution_count": 5,
   "id": "a2a58f99-cef1-4f3d-be72-91fab6d01512",
   "metadata": {},
   "outputs": [],
   "source": [
    "async def papers_from_results(total, results) -> t.Dict[str, t.Any]:\n",
    "    # extract papers from VSS results\n",
    "    return {\n",
    "        'total': total,\n",
    "        'papers': [\n",
    "            await process_paper(p, i)\n",
    "            for i, p in enumerate(results.docs)\n",
    "        ]\n",
    "    }"
   ]
  },
  {
   "cell_type": "code",
   "execution_count": 6,
   "id": "0cb4ecb5-dfa2-4149-ad04-2d88f6e03fa2",
   "metadata": {},
   "outputs": [],
   "source": [
    "async def find_papers_by_text():\n",
    "    # Create query\n",
    "    query = search_index.vector_query(\n",
    "        2012\n",
    "    )\n",
    "\n",
    "    # find the vector of the Paper listed in the request\n",
    "    paper_vector_key = \"paper_vector:0704.0304\"\n",
    "    vector = await redis_client.hget(paper_vector_key, \"vector\")\n",
    "\n",
    "    # obtain results of the queries\n",
    "    total, results = await asyncio.gather(\n",
    "        redis_client.ft(config.INDEX_NAME).search(query, query_params={\"vec_param\": vector})\n",
    "    )\n",
    "\n",
    "    # Get Paper records of those results\n",
    "    return await papers_from_results(total.total, results)"
   ]
  },
  {
   "cell_type": "code",
   "execution_count": 8,
   "id": "5ec9eaba-4513-4775-9775-ecb6c692b425",
   "metadata": {},
   "outputs": [
    {
     "name": "stdout",
     "output_type": "stream",
     "text": [
      "True\n"
     ]
    }
   ],
   "source": [
    "print(asyncio.get_running_loop().is_running()) "
   ]
  },
  {
   "cell_type": "code",
   "execution_count": 7,
   "id": "2751d45a-0542-48fe-9c87-01a7ebb45a36",
   "metadata": {},
   "outputs": [
    {
     "ename": "RuntimeError",
     "evalue": "asyncio.run() cannot be called from a running event loop",
     "output_type": "error",
     "traceback": [
      "\u001b[0;31m---------------------------------------------------------------------------\u001b[0m",
      "\u001b[0;31mRuntimeError\u001b[0m                              Traceback (most recent call last)",
      "\u001b[0;32m/var/folders/4j/jb76s__d3q15ycbs4zp4glz80000gn/T/ipykernel_18432/919243290.py\u001b[0m in \u001b[0;36m<module>\u001b[0;34m\u001b[0m\n\u001b[0;32m----> 1\u001b[0;31m \u001b[0mresult\u001b[0m \u001b[0;34m=\u001b[0m \u001b[0masyncio\u001b[0m\u001b[0;34m.\u001b[0m\u001b[0mrun\u001b[0m\u001b[0;34m(\u001b[0m\u001b[0mfind_papers_by_text\u001b[0m\u001b[0;34m(\u001b[0m\u001b[0;34m)\u001b[0m\u001b[0;34m)\u001b[0m\u001b[0;34m\u001b[0m\u001b[0;34m\u001b[0m\u001b[0m\n\u001b[0m",
      "\u001b[0;32m~/.pyenv/versions/3.7.13/lib/python3.7/asyncio/runners.py\u001b[0m in \u001b[0;36mrun\u001b[0;34m(main, debug)\u001b[0m\n\u001b[1;32m     32\u001b[0m     \u001b[0;32mif\u001b[0m \u001b[0mevents\u001b[0m\u001b[0;34m.\u001b[0m\u001b[0m_get_running_loop\u001b[0m\u001b[0;34m(\u001b[0m\u001b[0;34m)\u001b[0m \u001b[0;32mis\u001b[0m \u001b[0;32mnot\u001b[0m \u001b[0;32mNone\u001b[0m\u001b[0;34m:\u001b[0m\u001b[0;34m\u001b[0m\u001b[0;34m\u001b[0m\u001b[0m\n\u001b[1;32m     33\u001b[0m         raise RuntimeError(\n\u001b[0;32m---> 34\u001b[0;31m             \"asyncio.run() cannot be called from a running event loop\")\n\u001b[0m\u001b[1;32m     35\u001b[0m \u001b[0;34m\u001b[0m\u001b[0m\n\u001b[1;32m     36\u001b[0m     \u001b[0;32mif\u001b[0m \u001b[0;32mnot\u001b[0m \u001b[0mcoroutines\u001b[0m\u001b[0;34m.\u001b[0m\u001b[0miscoroutine\u001b[0m\u001b[0;34m(\u001b[0m\u001b[0mmain\u001b[0m\u001b[0;34m)\u001b[0m\u001b[0;34m:\u001b[0m\u001b[0;34m\u001b[0m\u001b[0;34m\u001b[0m\u001b[0m\n",
      "\u001b[0;31mRuntimeError\u001b[0m: asyncio.run() cannot be called from a running event loop"
     ]
    }
   ],
   "source": [
    "result = asyncio.run(find_papers_by_text())"
   ]
  },
  {
   "cell_type": "code",
   "execution_count": null,
   "id": "b4865e9d-a77f-47ea-a122-7f19e4ec8876",
   "metadata": {},
   "outputs": [],
   "source": []
  }
 ],
 "metadata": {
  "kernelspec": {
   "display_name": "Python 3 (ipykernel)",
   "language": "python",
   "name": "python3"
  },
  "language_info": {
   "codemirror_mode": {
    "name": "ipython",
    "version": 3
   },
   "file_extension": ".py",
   "mimetype": "text/x-python",
   "name": "python",
   "nbconvert_exporter": "python",
   "pygments_lexer": "ipython3",
   "version": "3.7.13"
  }
 },
 "nbformat": 4,
 "nbformat_minor": 5
}
