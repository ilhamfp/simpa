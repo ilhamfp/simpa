{
 "cells": [
  {
   "cell_type": "markdown",
   "id": "5c4cb2f1-ffc6-40ac-8c2b-cb3a12539093",
   "metadata": {},
   "source": [
    "# Exploration\n",
    "Loading Data to Redis Cloud"
   ]
  },
  {
   "cell_type": "code",
   "execution_count": 1,
   "id": "6faac8dc-a47b-410c-a554-58dcec0b2429",
   "metadata": {},
   "outputs": [],
   "source": [
    "#!/usr/bin/env python3\n",
    "import typing as t\n",
    "import asyncio\n",
    "import numpy as np\n",
    "import pickle\n",
    "import redis\n",
    "\n",
    "from redis.commands.search.field import TagField"
   ]
  },
  {
   "cell_type": "code",
   "execution_count": 2,
   "id": "e6b1f7fd-e3c0-44ed-9205-d461ca2b2e3e",
   "metadata": {},
   "outputs": [],
   "source": [
    "import os\n",
    "import sys\n",
    "module_path = os.path.abspath(os.path.join('..'))\n",
    "if module_path not in sys.path:\n",
    "    sys.path.append(module_path)"
   ]
  },
  {
   "cell_type": "code",
   "execution_count": 3,
   "id": "537a9f2f-cc52-40bd-943c-b9d0e149dc86",
   "metadata": {},
   "outputs": [],
   "source": [
    "from models import Paper\n",
    "from search_index import SearchIndex\n",
    "import config"
   ]
  },
  {
   "cell_type": "code",
   "execution_count": 6,
   "id": "616a2955-ae8c-410d-9f5b-f80a51483cb5",
   "metadata": {},
   "outputs": [],
   "source": [
    "def read_paper_df() -> t.List:\n",
    "    with open('../' + config.DATA_LOCATION + \"/arxiv_embeddings_without_cutoff.pkl\", \"rb\") as f:\n",
    "        df = pickle.load(f)\n",
    "    return df\n"
   ]
  },
  {
   "cell_type": "code",
   "execution_count": 7,
   "id": "22403de6-c91f-4864-94b1-38c32388c936",
   "metadata": {},
   "outputs": [],
   "source": [
    "df = read_paper_df()"
   ]
  },
  {
   "cell_type": "code",
   "execution_count": 8,
   "id": "9f3a2934-4df3-458b-8e89-44f46950b24a",
   "metadata": {},
   "outputs": [
    {
     "data": {
      "text/html": [
       "<div>\n",
       "<style scoped>\n",
       "    .dataframe tbody tr th:only-of-type {\n",
       "        vertical-align: middle;\n",
       "    }\n",
       "\n",
       "    .dataframe tbody tr th {\n",
       "        vertical-align: top;\n",
       "    }\n",
       "\n",
       "    .dataframe thead th {\n",
       "        text-align: right;\n",
       "    }\n",
       "</style>\n",
       "<table border=\"1\" class=\"dataframe\">\n",
       "  <thead>\n",
       "    <tr style=\"text-align: right;\">\n",
       "      <th></th>\n",
       "      <th>id</th>\n",
       "      <th>title</th>\n",
       "      <th>year</th>\n",
       "      <th>authors</th>\n",
       "      <th>categories</th>\n",
       "      <th>abstract</th>\n",
       "      <th>vector</th>\n",
       "    </tr>\n",
       "  </thead>\n",
       "  <tbody>\n",
       "    <tr>\n",
       "      <th>0</th>\n",
       "      <td>0704.0304</td>\n",
       "      <td>The World as Evolving Information</td>\n",
       "      <td>2012</td>\n",
       "      <td>Carlos Gershenson</td>\n",
       "      <td>cs.IT,cs.AI,math.IT,q-bio.PE</td>\n",
       "      <td>This paper discusses the benefits of describ...</td>\n",
       "      <td>[-0.011167259886860847, -0.026415932923555374,...</td>\n",
       "    </tr>\n",
       "    <tr>\n",
       "      <th>1</th>\n",
       "      <td>0704.0865</td>\n",
       "      <td>An architecture-based dependability modeling f...</td>\n",
       "      <td>2006</td>\n",
       "      <td>Ana-Elena Rugina (LAAS), Karama Kanoun (LAAS),...</td>\n",
       "      <td>cs.PF,cs.SE</td>\n",
       "      <td>For efficiency reasons, the software system ...</td>\n",
       "      <td>[0.02402251772582531, -0.003231793874874711, -...</td>\n",
       "    </tr>\n",
       "    <tr>\n",
       "      <th>2</th>\n",
       "      <td>0704.1267</td>\n",
       "      <td>Text Line Segmentation of Historical Documents...</td>\n",
       "      <td>2007</td>\n",
       "      <td>Laurence Likforman-Sulem, Abderrazak Zahour, B...</td>\n",
       "      <td>cs.CV</td>\n",
       "      <td>There is a huge amount of historical documen...</td>\n",
       "      <td>[-0.0011464570416137576, 0.04184567928314209, ...</td>\n",
       "    </tr>\n",
       "    <tr>\n",
       "      <th>3</th>\n",
       "      <td>0704.2092</td>\n",
       "      <td>A Note on the Inapproximability of Correlation...</td>\n",
       "      <td>2008</td>\n",
       "      <td>Jinsong Tan</td>\n",
       "      <td>cs.LG,cs.DS</td>\n",
       "      <td>We consider inapproximability of the correla...</td>\n",
       "      <td>[0.005469118244946003, -0.013095404952764511, ...</td>\n",
       "    </tr>\n",
       "    <tr>\n",
       "      <th>4</th>\n",
       "      <td>0704.3395</td>\n",
       "      <td>General-Purpose Computing on a Semantic Networ...</td>\n",
       "      <td>2010</td>\n",
       "      <td>Marko A. Rodriguez</td>\n",
       "      <td>cs.AI,cs.PL</td>\n",
       "      <td>This article presents a model of general-pur...</td>\n",
       "      <td>[0.037214089184999466, -0.029926029965281487, ...</td>\n",
       "    </tr>\n",
       "  </tbody>\n",
       "</table>\n",
       "</div>"
      ],
      "text/plain": [
       "          id                                              title  year  \\\n",
       "0  0704.0304                  The World as Evolving Information  2012   \n",
       "1  0704.0865  An architecture-based dependability modeling f...  2006   \n",
       "2  0704.1267  Text Line Segmentation of Historical Documents...  2007   \n",
       "3  0704.2092  A Note on the Inapproximability of Correlation...  2008   \n",
       "4  0704.3395  General-Purpose Computing on a Semantic Networ...  2010   \n",
       "\n",
       "                                             authors  \\\n",
       "0                                  Carlos Gershenson   \n",
       "1  Ana-Elena Rugina (LAAS), Karama Kanoun (LAAS),...   \n",
       "2  Laurence Likforman-Sulem, Abderrazak Zahour, B...   \n",
       "3                                        Jinsong Tan   \n",
       "4                                 Marko A. Rodriguez   \n",
       "\n",
       "                     categories  \\\n",
       "0  cs.IT,cs.AI,math.IT,q-bio.PE   \n",
       "1                   cs.PF,cs.SE   \n",
       "2                         cs.CV   \n",
       "3                   cs.LG,cs.DS   \n",
       "4                   cs.AI,cs.PL   \n",
       "\n",
       "                                            abstract  \\\n",
       "0    This paper discusses the benefits of describ...   \n",
       "1    For efficiency reasons, the software system ...   \n",
       "2    There is a huge amount of historical documen...   \n",
       "3    We consider inapproximability of the correla...   \n",
       "4    This article presents a model of general-pur...   \n",
       "\n",
       "                                              vector  \n",
       "0  [-0.011167259886860847, -0.026415932923555374,...  \n",
       "1  [0.02402251772582531, -0.003231793874874711, -...  \n",
       "2  [-0.0011464570416137576, 0.04184567928314209, ...  \n",
       "3  [0.005469118244946003, -0.013095404952764511, ...  \n",
       "4  [0.037214089184999466, -0.029926029965281487, ...  "
      ]
     },
     "execution_count": 8,
     "metadata": {},
     "output_type": "execute_result"
    }
   ],
   "source": [
    "df.head()"
   ]
  },
  {
   "cell_type": "code",
   "execution_count": 9,
   "id": "c3e20730",
   "metadata": {},
   "outputs": [
    {
     "data": {
      "text/html": [
       "<div>\n",
       "<style scoped>\n",
       "    .dataframe tbody tr th:only-of-type {\n",
       "        vertical-align: middle;\n",
       "    }\n",
       "\n",
       "    .dataframe tbody tr th {\n",
       "        vertical-align: top;\n",
       "    }\n",
       "\n",
       "    .dataframe thead th {\n",
       "        text-align: right;\n",
       "    }\n",
       "</style>\n",
       "<table border=\"1\" class=\"dataframe\">\n",
       "  <thead>\n",
       "    <tr style=\"text-align: right;\">\n",
       "      <th></th>\n",
       "      <th>id</th>\n",
       "      <th>title</th>\n",
       "      <th>year</th>\n",
       "      <th>authors</th>\n",
       "      <th>categories</th>\n",
       "      <th>abstract</th>\n",
       "      <th>vector</th>\n",
       "    </tr>\n",
       "  </thead>\n",
       "  <tbody>\n",
       "    <tr>\n",
       "      <th>25441</th>\n",
       "      <td>2108.10876</td>\n",
       "      <td>Quantum adaptive agents with efficient long-te...</td>\n",
       "      <td>2022</td>\n",
       "      <td>Thomas J. Elliott, Mile Gu, Andrew J. P. Garne...</td>\n",
       "      <td>quant-ph,cond-mat.stat-mech,cs.AI,cs.IT,math.IT</td>\n",
       "      <td>Central to the success of adaptive systems i...</td>\n",
       "      <td>[-0.03755851835012436, 0.008588328026235104, -...</td>\n",
       "    </tr>\n",
       "    <tr>\n",
       "      <th>23338</th>\n",
       "      <td>2103.10005</td>\n",
       "      <td>Neural Network Attribution Methods for Problem...</td>\n",
       "      <td>2022</td>\n",
       "      <td>Antonios Mamalakis, Imme Ebert-Uphoff and Eliz...</td>\n",
       "      <td>physics.geo-ph,cs.LG</td>\n",
       "      <td>Despite the increasingly successful applicat...</td>\n",
       "      <td>[-0.0183702539652586, 0.039819177240133286, -0...</td>\n",
       "    </tr>\n",
       "    <tr>\n",
       "      <th>23333</th>\n",
       "      <td>2103.09728</td>\n",
       "      <td>Learning migration models for supporting incre...</td>\n",
       "      <td>2022</td>\n",
       "      <td>Bruno G\\'ois Mateus, Matias Martinez, Christop...</td>\n",
       "      <td>cs.SE</td>\n",
       "      <td>Context: A Legacy system can be defined as a...</td>\n",
       "      <td>[0.04580807313323021, 0.052638158202171326, -0...</td>\n",
       "    </tr>\n",
       "    <tr>\n",
       "      <th>27096</th>\n",
       "      <td>2201.05461</td>\n",
       "      <td>RecoMed: A Knowledge-Aware Recommender System ...</td>\n",
       "      <td>2022</td>\n",
       "      <td>Maryam Sajde, Hamed Malek, Mehran Mohsenzadeh</td>\n",
       "      <td>cs.IR,cs.LG</td>\n",
       "      <td>Background and Objective High medicine diver...</td>\n",
       "      <td>[0.012568038888275623, -0.07941142469644547, -...</td>\n",
       "    </tr>\n",
       "    <tr>\n",
       "      <th>27095</th>\n",
       "      <td>2201.05460</td>\n",
       "      <td>Impact of Stop Sets on Stopping Active Learnin...</td>\n",
       "      <td>2022</td>\n",
       "      <td>Luke Kurlandski and Michael Bloodgood</td>\n",
       "      <td>cs.IR,cs.CL,cs.LG</td>\n",
       "      <td>Active learning is an increasingly important...</td>\n",
       "      <td>[0.005745161324739456, 0.021268900483846664, -...</td>\n",
       "    </tr>\n",
       "    <tr>\n",
       "      <th>...</th>\n",
       "      <td>...</td>\n",
       "      <td>...</td>\n",
       "      <td>...</td>\n",
       "      <td>...</td>\n",
       "      <td>...</td>\n",
       "      <td>...</td>\n",
       "      <td>...</td>\n",
       "    </tr>\n",
       "    <tr>\n",
       "      <th>29612</th>\n",
       "      <td>cs/0105006</td>\n",
       "      <td>Reverse Engineering from Assembler to Formal S...</td>\n",
       "      <td>2000</td>\n",
       "      <td>M. P. Ward</td>\n",
       "      <td>cs.SE,cs.PL</td>\n",
       "      <td>The FermaT transformation system, based on r...</td>\n",
       "      <td>[-0.01316212210804224, 0.03356737270951271, -0...</td>\n",
       "    </tr>\n",
       "    <tr>\n",
       "      <th>29524</th>\n",
       "      <td>cs/0004005</td>\n",
       "      <td>Exact Phase Transitions in Random Constraint S...</td>\n",
       "      <td>2000</td>\n",
       "      <td>Ke Xu, Wei Li</td>\n",
       "      <td>cs.AI,cs.CC,cs.DM</td>\n",
       "      <td>In this paper we propose a new type of rando...</td>\n",
       "      <td>[0.007238228805363178, -0.00010195512004429474...</td>\n",
       "    </tr>\n",
       "    <tr>\n",
       "      <th>29617</th>\n",
       "      <td>cs/0105032</td>\n",
       "      <td>Learning to Cooperate via Policy Search</td>\n",
       "      <td>2000</td>\n",
       "      <td>Leonid Peshkin, Kee-Eung Kim, Nicolas Meuleau ...</td>\n",
       "      <td>cs.LG,cs.MA</td>\n",
       "      <td>Cooperative games are those in which both ag...</td>\n",
       "      <td>[0.02313612774014473, 0.02206106297671795, 0.0...</td>\n",
       "    </tr>\n",
       "    <tr>\n",
       "      <th>29521</th>\n",
       "      <td>cs/0003079</td>\n",
       "      <td>Differential Invariants under Gamma Correction</td>\n",
       "      <td>2000</td>\n",
       "      <td>Andreas Siebert</td>\n",
       "      <td>cs.CV</td>\n",
       "      <td>This paper presents invariants under gamma c...</td>\n",
       "      <td>[-0.01893344707787037, 0.013828199356794357, 0...</td>\n",
       "    </tr>\n",
       "    <tr>\n",
       "      <th>29564</th>\n",
       "      <td>cs/0008020</td>\n",
       "      <td>Explaining away ambiguity: Learning verb selec...</td>\n",
       "      <td>2000</td>\n",
       "      <td>Massimiliano Ciaramita and Mark Johnson</td>\n",
       "      <td>cs.CL,cs.AI</td>\n",
       "      <td>This paper presents a Bayesian model for uns...</td>\n",
       "      <td>[-0.014750778675079346, 0.020868496969342232, ...</td>\n",
       "    </tr>\n",
       "  </tbody>\n",
       "</table>\n",
       "<p>30186 rows × 7 columns</p>\n",
       "</div>"
      ],
      "text/plain": [
       "               id                                              title  year  \\\n",
       "25441  2108.10876  Quantum adaptive agents with efficient long-te...  2022   \n",
       "23338  2103.10005  Neural Network Attribution Methods for Problem...  2022   \n",
       "23333  2103.09728  Learning migration models for supporting incre...  2022   \n",
       "27096  2201.05461  RecoMed: A Knowledge-Aware Recommender System ...  2022   \n",
       "27095  2201.05460  Impact of Stop Sets on Stopping Active Learnin...  2022   \n",
       "...           ...                                                ...   ...   \n",
       "29612  cs/0105006  Reverse Engineering from Assembler to Formal S...  2000   \n",
       "29524  cs/0004005  Exact Phase Transitions in Random Constraint S...  2000   \n",
       "29617  cs/0105032            Learning to Cooperate via Policy Search  2000   \n",
       "29521  cs/0003079     Differential Invariants under Gamma Correction  2000   \n",
       "29564  cs/0008020  Explaining away ambiguity: Learning verb selec...  2000   \n",
       "\n",
       "                                                 authors  \\\n",
       "25441  Thomas J. Elliott, Mile Gu, Andrew J. P. Garne...   \n",
       "23338  Antonios Mamalakis, Imme Ebert-Uphoff and Eliz...   \n",
       "23333  Bruno G\\'ois Mateus, Matias Martinez, Christop...   \n",
       "27096      Maryam Sajde, Hamed Malek, Mehran Mohsenzadeh   \n",
       "27095              Luke Kurlandski and Michael Bloodgood   \n",
       "...                                                  ...   \n",
       "29612                                         M. P. Ward   \n",
       "29524                                      Ke Xu, Wei Li   \n",
       "29617  Leonid Peshkin, Kee-Eung Kim, Nicolas Meuleau ...   \n",
       "29521                                    Andreas Siebert   \n",
       "29564            Massimiliano Ciaramita and Mark Johnson   \n",
       "\n",
       "                                            categories  \\\n",
       "25441  quant-ph,cond-mat.stat-mech,cs.AI,cs.IT,math.IT   \n",
       "23338                             physics.geo-ph,cs.LG   \n",
       "23333                                            cs.SE   \n",
       "27096                                      cs.IR,cs.LG   \n",
       "27095                                cs.IR,cs.CL,cs.LG   \n",
       "...                                                ...   \n",
       "29612                                      cs.SE,cs.PL   \n",
       "29524                                cs.AI,cs.CC,cs.DM   \n",
       "29617                                      cs.LG,cs.MA   \n",
       "29521                                            cs.CV   \n",
       "29564                                      cs.CL,cs.AI   \n",
       "\n",
       "                                                abstract  \\\n",
       "25441    Central to the success of adaptive systems i...   \n",
       "23338    Despite the increasingly successful applicat...   \n",
       "23333    Context: A Legacy system can be defined as a...   \n",
       "27096    Background and Objective High medicine diver...   \n",
       "27095    Active learning is an increasingly important...   \n",
       "...                                                  ...   \n",
       "29612    The FermaT transformation system, based on r...   \n",
       "29524    In this paper we propose a new type of rando...   \n",
       "29617    Cooperative games are those in which both ag...   \n",
       "29521    This paper presents invariants under gamma c...   \n",
       "29564    This paper presents a Bayesian model for uns...   \n",
       "\n",
       "                                                  vector  \n",
       "25441  [-0.03755851835012436, 0.008588328026235104, -...  \n",
       "23338  [-0.0183702539652586, 0.039819177240133286, -0...  \n",
       "23333  [0.04580807313323021, 0.052638158202171326, -0...  \n",
       "27096  [0.012568038888275623, -0.07941142469644547, -...  \n",
       "27095  [0.005745161324739456, 0.021268900483846664, -...  \n",
       "...                                                  ...  \n",
       "29612  [-0.01316212210804224, 0.03356737270951271, -0...  \n",
       "29524  [0.007238228805363178, -0.00010195512004429474...  \n",
       "29617  [0.02313612774014473, 0.02206106297671795, 0.0...  \n",
       "29521  [-0.01893344707787037, 0.013828199356794357, 0...  \n",
       "29564  [-0.014750778675079346, 0.020868496969342232, ...  \n",
       "\n",
       "[30186 rows x 7 columns]"
      ]
     },
     "execution_count": 9,
     "metadata": {},
     "output_type": "execute_result"
    }
   ],
   "source": [
    "df.sort_values(by=[\"year\"], ascending=False)"
   ]
  },
  {
   "cell_type": "code",
   "execution_count": 7,
   "id": "9431560d-ab4e-4b76-875a-42516246b679",
   "metadata": {},
   "outputs": [
    {
     "data": {
      "text/plain": [
       "768"
      ]
     },
     "execution_count": 7,
     "metadata": {},
     "output_type": "execute_result"
    }
   ],
   "source": [
    "len(df.vector[0])"
   ]
  },
  {
   "cell_type": "code",
   "execution_count": 8,
   "id": "89484270-22d9-4f93-83ed-24f739fd93b4",
   "metadata": {},
   "outputs": [],
   "source": [
    "from tqdm import tqdm"
   ]
  },
  {
   "cell_type": "code",
   "execution_count": 9,
   "id": "16366d2e-0274-4ed4-9d4a-68aca693acdc",
   "metadata": {},
   "outputs": [],
   "source": [
    "def gather_with_concurrency(n, redis_conn, *papers):\n",
    "    def load_paper(paper):\n",
    "            vector = paper.pop('vector')\n",
    "            paper['paper_id'] = paper.pop('id')\n",
    "            # TODO - we need to be able to use other separators\n",
    "            paper['categories'] = paper['categories'].replace(\",\", \"|\")\n",
    "            p = Paper(**paper)\n",
    "            # save model TODO -- combine these two objects eventually\n",
    "            p.save()\n",
    "            # save vector data\n",
    "            key = \"paper_vector:\" + str(p.paper_id)\n",
    "            redis_conn.hset(\n",
    "                key,\n",
    "                mapping={\n",
    "                    \"paper_pk\": p.pk,\n",
    "                    \"paper_id\": p.paper_id,\n",
    "                    \"categories\": p.categories,\n",
    "                    \"year\": p.year,\n",
    "                    \"vector\": np.array(vector, dtype=np.float32).tobytes(),\n",
    "            })\n",
    "            \n",
    "    for p in tqdm(papers):\n",
    "        load_paper(p)\n",
    "\n",
    "def load_all_data():\n",
    "    # TODO use redis-om connection\n",
    "    redis_conn = redis.from_url(config.REDIS_URL)\n",
    "    search_index = SearchIndex()\n",
    "    print(\"Loading papers into Simpa App\")\n",
    "    papers = read_paper_df()\n",
    "    papers = papers.to_dict('records')\n",
    "    gather_with_concurrency(100, redis_conn, *papers)\n",
    "\n",
    "\n",
    "    print(\"Creating vector search index\")\n",
    "    categories_field = TagField(\"categories\", separator = \"|\")\n",
    "    year_field = TagField(\"year\", separator = \"|\")\n",
    "    # create a search index\n",
    "    if config.INDEX_TYPE == \"HNSW\":\n",
    "        search_index.create_hnsw(\n",
    "            categories_field,\n",
    "            year_field,\n",
    "            redis_conn=redis_conn,\n",
    "            number_of_vectors=len(papers),\n",
    "            prefix=\"paper_vector:\",\n",
    "            distance_metric=\"IP\",\n",
    "        )\n",
    "    else:\n",
    "         search_index.create_flat(\n",
    "            categories_field,\n",
    "            year_field,\n",
    "            redis_conn=redis_conn,\n",
    "            number_of_vectors=len(papers),\n",
    "            prefix=\"paper_vector:\",\n",
    "            distance_metric=\"IP\",\n",
    "        )\n",
    "    print(\"Search index created\")"
   ]
  },
  {
   "cell_type": "code",
   "execution_count": 10,
   "id": "95938a29-ff92-4b35-8530-a5e6fc504e02",
   "metadata": {},
   "outputs": [
    {
     "name": "stdout",
     "output_type": "stream",
     "text": [
      "Loading papers into Simpa App\n"
     ]
    },
    {
     "name": "stderr",
     "output_type": "stream",
     "text": [
      "  0%|                                                                                                | 0/10 [00:00<?, ?it/s]/Users/ilhamputra/.pyenv/versions/3.7.13/lib/python3.7/site-packages/ipykernel_launcher.py:9: RuntimeWarning: coroutine 'HashModel.save' was never awaited\n",
      "  if __name__ == \"__main__\":\n",
      "RuntimeWarning: Enable tracemalloc to get the object allocation traceback\n",
      "100%|███████████████████████████████████████████████████████████████████████████████████████| 10/10 [00:03<00:00,  3.29it/s]\n"
     ]
    },
    {
     "name": "stdout",
     "output_type": "stream",
     "text": [
      "Creating vector search index\n",
      "GET INDEX_NAME:  papers\n",
      "Search index created\n"
     ]
    }
   ],
   "source": [
    "load_all_data()"
   ]
  },
  {
   "cell_type": "code",
   "execution_count": 11,
   "id": "71c7f0d3-7f90-45ba-aee4-4f740a0059dc",
   "metadata": {},
   "outputs": [],
   "source": [
    "redis_conn = redis.from_url(config.REDIS_URL)"
   ]
  },
  {
   "cell_type": "code",
   "execution_count": 12,
   "id": "818d3522-1402-4bab-a565-9bc4af77d9c2",
   "metadata": {},
   "outputs": [
    {
     "data": {
      "text/plain": [
       "True"
      ]
     },
     "execution_count": 12,
     "metadata": {},
     "output_type": "execute_result"
    }
   ],
   "source": [
    "redis_conn.ping()"
   ]
  },
  {
   "cell_type": "code",
   "execution_count": 13,
   "id": "4b4d461a-8e32-4af1-9444-2baceebd8d69",
   "metadata": {},
   "outputs": [],
   "source": [
    "papers = read_paper_df().head(100)"
   ]
  },
  {
   "cell_type": "code",
   "execution_count": 14,
   "id": "ab2c8375-8652-4a7d-998e-1e590cb76177",
   "metadata": {},
   "outputs": [
    {
     "data": {
      "text/html": [
       "<div>\n",
       "<style scoped>\n",
       "    .dataframe tbody tr th:only-of-type {\n",
       "        vertical-align: middle;\n",
       "    }\n",
       "\n",
       "    .dataframe tbody tr th {\n",
       "        vertical-align: top;\n",
       "    }\n",
       "\n",
       "    .dataframe thead th {\n",
       "        text-align: right;\n",
       "    }\n",
       "</style>\n",
       "<table border=\"1\" class=\"dataframe\">\n",
       "  <thead>\n",
       "    <tr style=\"text-align: right;\">\n",
       "      <th></th>\n",
       "      <th>id</th>\n",
       "      <th>title</th>\n",
       "      <th>year</th>\n",
       "      <th>authors</th>\n",
       "      <th>categories</th>\n",
       "      <th>abstract</th>\n",
       "      <th>vector</th>\n",
       "    </tr>\n",
       "  </thead>\n",
       "  <tbody>\n",
       "    <tr>\n",
       "      <th>0</th>\n",
       "      <td>0704.0304</td>\n",
       "      <td>The World as Evolving Information</td>\n",
       "      <td>2012</td>\n",
       "      <td>Carlos Gershenson</td>\n",
       "      <td>cs.IT,cs.AI,math.IT,q-bio.PE</td>\n",
       "      <td>This paper discusses the benefits of describ...</td>\n",
       "      <td>[-0.011167259886860847, -0.026415932923555374,...</td>\n",
       "    </tr>\n",
       "    <tr>\n",
       "      <th>1</th>\n",
       "      <td>0704.0865</td>\n",
       "      <td>An architecture-based dependability modeling f...</td>\n",
       "      <td>2006</td>\n",
       "      <td>Ana-Elena Rugina (LAAS), Karama Kanoun (LAAS),...</td>\n",
       "      <td>cs.PF,cs.SE</td>\n",
       "      <td>For efficiency reasons, the software system ...</td>\n",
       "      <td>[0.02402251772582531, -0.003231793874874711, -...</td>\n",
       "    </tr>\n",
       "    <tr>\n",
       "      <th>2</th>\n",
       "      <td>0704.1267</td>\n",
       "      <td>Text Line Segmentation of Historical Documents...</td>\n",
       "      <td>2007</td>\n",
       "      <td>Laurence Likforman-Sulem, Abderrazak Zahour, B...</td>\n",
       "      <td>cs.CV</td>\n",
       "      <td>There is a huge amount of historical documen...</td>\n",
       "      <td>[-0.0011464570416137576, 0.04184567928314209, ...</td>\n",
       "    </tr>\n",
       "    <tr>\n",
       "      <th>3</th>\n",
       "      <td>0704.2092</td>\n",
       "      <td>A Note on the Inapproximability of Correlation...</td>\n",
       "      <td>2008</td>\n",
       "      <td>Jinsong Tan</td>\n",
       "      <td>cs.LG,cs.DS</td>\n",
       "      <td>We consider inapproximability of the correla...</td>\n",
       "      <td>[0.005469118244946003, -0.013095404952764511, ...</td>\n",
       "    </tr>\n",
       "    <tr>\n",
       "      <th>4</th>\n",
       "      <td>0704.3395</td>\n",
       "      <td>General-Purpose Computing on a Semantic Networ...</td>\n",
       "      <td>2010</td>\n",
       "      <td>Marko A. Rodriguez</td>\n",
       "      <td>cs.AI,cs.PL</td>\n",
       "      <td>This article presents a model of general-pur...</td>\n",
       "      <td>[0.037214089184999466, -0.029926029965281487, ...</td>\n",
       "    </tr>\n",
       "  </tbody>\n",
       "</table>\n",
       "</div>"
      ],
      "text/plain": [
       "          id                                              title  year  \\\n",
       "0  0704.0304                  The World as Evolving Information  2012   \n",
       "1  0704.0865  An architecture-based dependability modeling f...  2006   \n",
       "2  0704.1267  Text Line Segmentation of Historical Documents...  2007   \n",
       "3  0704.2092  A Note on the Inapproximability of Correlation...  2008   \n",
       "4  0704.3395  General-Purpose Computing on a Semantic Networ...  2010   \n",
       "\n",
       "                                             authors  \\\n",
       "0                                  Carlos Gershenson   \n",
       "1  Ana-Elena Rugina (LAAS), Karama Kanoun (LAAS),...   \n",
       "2  Laurence Likforman-Sulem, Abderrazak Zahour, B...   \n",
       "3                                        Jinsong Tan   \n",
       "4                                 Marko A. Rodriguez   \n",
       "\n",
       "                     categories  \\\n",
       "0  cs.IT,cs.AI,math.IT,q-bio.PE   \n",
       "1                   cs.PF,cs.SE   \n",
       "2                         cs.CV   \n",
       "3                   cs.LG,cs.DS   \n",
       "4                   cs.AI,cs.PL   \n",
       "\n",
       "                                            abstract  \\\n",
       "0    This paper discusses the benefits of describ...   \n",
       "1    For efficiency reasons, the software system ...   \n",
       "2    There is a huge amount of historical documen...   \n",
       "3    We consider inapproximability of the correla...   \n",
       "4    This article presents a model of general-pur...   \n",
       "\n",
       "                                              vector  \n",
       "0  [-0.011167259886860847, -0.026415932923555374,...  \n",
       "1  [0.02402251772582531, -0.003231793874874711, -...  \n",
       "2  [-0.0011464570416137576, 0.04184567928314209, ...  \n",
       "3  [0.005469118244946003, -0.013095404952764511, ...  \n",
       "4  [0.037214089184999466, -0.029926029965281487, ...  "
      ]
     },
     "execution_count": 14,
     "metadata": {},
     "output_type": "execute_result"
    }
   ],
   "source": [
    "papers.head()"
   ]
  },
  {
   "cell_type": "code",
   "execution_count": 15,
   "id": "33025bc6-b3f4-41d7-9f24-e15a9d096d29",
   "metadata": {},
   "outputs": [],
   "source": [
    "redis_client = redis.from_url(config.REDIS_URL)"
   ]
  },
  {
   "cell_type": "code",
   "execution_count": 16,
   "id": "a2a58f99-cef1-4f3d-be72-91fab6d01512",
   "metadata": {},
   "outputs": [],
   "source": [
    "def process_paper(p, i: int) -> t.Dict[str, t.Any]:\n",
    "    paper = Paper.get(p.paper_pk)\n",
    "    paper = paper.dict()\n",
    "    score = 1 - float(p.vector_score)\n",
    "    paper['similarity_score'] = score\n",
    "    return paper\n",
    "\n",
    "def papers_from_results(total, results):\n",
    "    # extract papers from VSS results\n",
    "    return {\n",
    "        'total': total,\n",
    "        'papers': [\n",
    "            process_paper(p, i)\n",
    "            for i, p in enumerate(results.docs)\n",
    "        ]\n",
    "    }"
   ]
  },
  {
   "cell_type": "code",
   "execution_count": 17,
   "id": "984ee744-4979-4f37-ae7d-94c39dedd838",
   "metadata": {},
   "outputs": [],
   "source": [
    "search_index = SearchIndex()"
   ]
  },
  {
   "cell_type": "code",
   "execution_count": 18,
   "id": "dbf9caa4-82e5-44ec-ab61-ae7353279f6b",
   "metadata": {},
   "outputs": [],
   "source": [
    "paper_vector_key = \"paper_vector:0704.0304\"\n",
    "vector = redis_client.hget(paper_vector_key, \"vector\")"
   ]
  },
  {
   "cell_type": "code",
   "execution_count": 19,
   "id": "83caff84-b2cc-47fd-a01e-312d28c32ade",
   "metadata": {},
   "outputs": [
    {
     "data": {
      "text/plain": [
       "b'\\xe2\\xf66\\xbc:f\\xd8\\xbc\\xad\\xb3[\\xbd\\xe3\\xads\\xbd\\xce\\xce\\xe5\\xbc\\xd5r\\x00<\\x88-\\xcd\\xbc!\\xe3F=\\x86\\xc4\\xc7\\xbc\\xfe\\xe4\\x10\\xbc7\\xf9\\x1c\\xbc\\xa6\\x1c\\xc89G!L<\\x96\\xda\\xb3\\xbb\\x8a5\\x9b=\\x03\\xe5\\x85\\xbd\\xce\\xfe\\x91<h\\xf5\\x01\\xbd\\x8f\\xec\\xa5\\xbc\\xb9\\xee\\xdc:\\xb9\\x90\\x85\\xbd\\xcf\\x0f\\xa7\\xbd\\xf9T\\xff<1\\x93P\\xbdU\\xff9=kN\\xc7<%\\xda\\xe4\\xbc/\\x8a\\x9a<4\\x82\\x0b=\\x91w5\\xbd\\x85a\\x90\\xbd\\x00\\x9d\\x08\\xbdC\\xb2>=k\\xfeF=\"v\\xd55\\x8a\\xff}\\xbd]z\\xca<\\x92V\\xea<\\xd1\\x00y\\xbd\\xa6\\xd7B\\xbd,\\x8fE<%\\x1b\\xa2<W\\x02o\\xbcW2\\x1a\\xbc\\x08\\x187<\\x90MS<4\\xbf\\xf2<\\xb0\\xa7;<v\\xa3\\x83\\xbdj\\x13\\xcb<>?\\xa9\\xbb\\t.\\xd8\\xbc\\x1a#\\xa9=0\\xc7\\xce\\xbcs\\xa4\\x8b=B\\x10\\xc6=d\\xeb\\xc6<2\\xec#=\\x02\\xd5B=\\xfa\\x93s<8j\\xe6\\xbc\\xe1\\x03\\xbc<5\\x04\\xc1<\\x9f\\xb4r<+U\\x05<u\\x1d@<`S\\xd4=\\x8a\\x9f\\x97\\xbb\"O\\xe1<\\xe5\\x9c+=\\x1f\\xbf\\xf0;\\x81\\x9a\\x07<\\xec\\xc3\\xa3\\xbcJM\\xda<\\x07\\x95a<\\xd88N\\xbd\\x0f\\x8c4\\xbc\\xf0\\xc2\\xcd<+_\\x05=\\xad\\xd1\\x00<\\x8d\\x8c\\xba;\\xad\\x8d\\x83<dD\\xc0<\\xbd \\x98;\\\\]\\xf5\\xbcJH\\x92=0\\x8f\\'<t\\xe6\\xc5\\xbc\\x83\\x01\\xbf\\xbc$YK\\xbdS\\xa2\\x15=/\\xad\\x07\\xbd\\xe0]n\\xbdn\\x1fv=3\\x04.<0\\x11\\xc5\\xbc\\xf7w\\xc2\\xbc\\xb2F\\x1f=\\x05\\x9dd\\xbc \\x9b\\x01\\xbdb\\x9a\\xcf<\\x94\\x06\\xb3\\xbc\\xcd\\xffg=%\\x98#=\\xb2\\xb75=\\rm\\xb1<]\\xf3[\\xbd\\xe8\\xe7<\\xbc\\xc6\\x8eg\\xbd8\\xa4\\x08=\\xf6&\\xa1\\xbd\\x82\\x13;;@lH<\\xe6\\x1ea=D\\xc7\\xdd<\\x99F\\x03<\\xf1}\\xa7\\xbc\\xd5\\xa1\\xae<\\xa5Eh\\xbc\\xe4?.\\xbc\\xba\\x97\\xa3\\xbd\\xce\\xc7\\xaf\\xbc\\x15\\xe3^=3\\x7f\\xd4<u\\xe7\\x1d\\xbc\\x99\\xca\\xc3\\xbcY\\x97\\x91\\xbcG\\xb7S;\\xd4\\xba\\xa6\\xbb\\xf8\\x00\\xcc\\xbc\\xcdwN;\\x82x\\xfc;\\xae\\xdb\\xfb\\xba\\x11\\xfa6=f\\xc9\\x8a\\xbc\\x18\"E=%\\x81g=b\\xf6\\xdf\\xbc\\t\\xb8s<\\xf58\\x1f\\xbc\\x85\\xce\\xc5:\\xbf\\xf8\\xdd\\xbbq{\\xcc<1\\xd8\\x06=i+\\xd0\\xbc\\x99\\x0b\\xd4\\xbc$\\xfb\\x95<\\xe8\\xcf\\xc1;\\xea\\x1d\\xe8\\xbc\\xf6|\\x16\\xbd\\x168\\xcd\\xbc_\\xf2\\n=\\xd8\\xb9\\xcf\\xbd\\xb9G]\\xbb\\xf8\\xf7\\x10=\\x96\\x02\\xb2<\\x8c3\\x9c=\\x86\\xcc\\xc7<:\\xe10=7\\x997\\xbd\\x7fc\\xc4<\\xa1\\xc2*;\\x03\\x0f+<\\xec\\xf1\\xb3\\xbbO\\xfe\\x06<\\xeer\\r<\\xf9\\'\\x08=;\\\\]\\xbc\\xdc\\xfdh\\xbc\\x17\\x0c\\x85;\\x90\\xd1\\x00\\xbd\\xe7\\xd0\\xfb\\xbb\\xdf\\xc3_\\xbc\\xca\\xf1[=\\xa40\\x7f;o|\\xa7\\xbb\\x8dl+=\\xd2j4=\\xeb\\xcd\\x15=\\x1a\\xb8\\x97\\xb8m\\xa1\\xb0<\\x18\\xdf\\x9c=\\x13#\\x99;\\xf6U\\xe9<\\xaet+\\xbd\\xbd\\xee\\xee:s\\x93\\x0f=O\\x1b\\n\\xbd\\x16Zj\\xbc\\x95\\x05\\x90\\xbdl\\x12\\xb7<\\xdd0\\xf9\\xbc\\xa9\\xa6\\xc6;\\xc3\\xdc\\x1a\\xbc\\xf7,)<~1#\\xbb\\x13\\x80N=d\\x8ef\\xbda\\x00P<\\'\\xcb\\xb2<\\xcc\\x99\\xb8\\xbc[\\r`\\xbc\\xee\\t\\x8f<UZ\\x05=\\xa10!\\xbds\\xdf\\x18\\xbcH\\xb1\\xc0;C\\xec\\'=\\'X\\xe9\\xbc\\xf9\\xaa\\x8c<\\xa3\\x0e\\xcd<\\x85\\xa97<\\xaf\\xd6B\\xbd9\\xab\\x8a\\xbc\\xc9\\xf4\\x7f<\\x8d\\x84\\x98\\xbd\\xea\\x93\\xdc\\xbc\\x1eV\\xb4\\xbc\\xcaB\\xcb\\xbd\\x05\\x10X=i:x<\\xfc\\xfc\\xbf=:\\xda)\\xbb\\xc1K\\x89\\xbb\\xbb \\x8e\\xba\\x03W\\xec\\xbc3hc\\xbd \\x92\\x08\\xbd`CW=\\xe1\\x92\\xfd\\xbc\\x9fV\\xf1\\xbc\\xa8\\x866=\\xa6\\x00\\x0b<\\xc2\\xf0c\\xbd9\\x1c-\\xbd \\x8f&=\\x86Gb<jV\\x93=/R\\xc9;L\\t@\\xbd=\\x8e\\x95=\\x17\\xcd\\xbc\\xbc\\xfd\\xa1m=\\xb2\\x8dw\\xbcl\\xc5\\n=\\xb9\\x07\\x82\\xbd\\x1c\\x1a{=\\xafw);\\x0c6\\xb6\\xbb6\\xdeK\\xbd\\xfeZ\\x17=\\xc5X\\x95<\\x9b\\xe2\\xb5<\\xd8u{\\xbc\\x03\\xc8\\x15=\\xe5t\\xaa\\xbc\\xe3e\\x95\\xbc\\x07E\\xc2<\\x8eD\\x80\\xbc\\xb1,\\xa7\\xbb\\x9e:1<(\\xc8\\x82<\\x9a\\xd3\\x1a\\xbd\\xbcIz<,\\xb6\\xd8;\\xa7\\xa3\\xa8<\\xe4\\xb3\\xfc<;\\xc9\\x8c;\\xb36\\x1c\\xbd\\xaf\\xe5\\x9b:\\x04\\xbcm<\\xc6\\xeb\\x8f9Qy<:\\xbc\\xdc\\xd8\\xb92\\xa8\\xf8<\\xdf$\\xa6<\\xfdk\\xc1=\\xacw\\xb8<+\\xaf\\xa8\\xba\\xe3\\x8e;<\\x1d4j<\\x7f\\x91r\\xbb\\x92\\x92\\xa6\\xbc\\x91C\\xfa\\xba\\x88%L\\xbd h\\x08=\\x1c\\xfe\\xdb<\\x94\\xf4\\xcd\\xbc(r\\t\\xbdzg\\xfb<D\\x18=\\xbdcf\\xf0\\xbb\\xa8[\\x91\\xbc\\xff\\xe7\\x08<\\xc2\\xc9(;\\x90Df\\xbb\\x80g\\xa3<\\xef8\\x8d\\xbc(\\xe4\\x96<LD\\x91<X\")=\\xd5)\\n;\\xcbR\\xf2;U\\x11\\x9c\\xba\\xe2\"\\x91\\xbbK\\x027=\\x0bO\\xf9\\xbc\\xe3\\xe0\\x07\\xbdUwK=\\r\\xd4c=\\xedu\\x0b\\xbd\\x8e\\x10\\xa5\\xbc9\\x99f\\xbc\\x12P[=!x\\x93\\xbd\\xcc0\\x0c\\xbd\\xf8\\xdf\\x0e=\\xb9\\xedx\\xbd\\xf6\\xf5\\x82;\\xaa\\xc0\\xec\\xbb\\xbf,\\xd2\\xbc\\xf5\\xdan\\xbc\\xdfUc=\\xa4\\xbc\\xc4<d\\xbd\\x8d<\\x89j\\x05<\\x03\\x96\\x81\\xbc\\xec\\xad\\xcb:7ec=\\x05\\xb1\\xb0=FD\\xa3<.\\xcb\\xd4=\\xcd\\xfdu;\\xb7\\xb1^\\xbdE\\xe8\\x88\\xbd#6\\xa3<*\\x9a\\x84<P_|\\xbdg\\xc3`\\xbd\\xf8 \\xad\\xbb\\xdc\\xd5\\xad\\xbc\\x17Uq\\xbc\\x9cS\\xa2<F\\xff\\xd8=\\xa7\\xd6/<t\\x86G=\\'\\xc4)=\"Z\\'\\xbd\\xbf\\xc9\\xbb\\xbc\\xcaP\\x04\\xbd\\xe7Bh=\\xf6\\xc9a\\xbbA\\x8eu<\\xaf\\xee\\xd6\\xbc0\\x97S<hX\\xab\\xbcZ\\xeb:=M\\xb2F=\\xca(K=\\x19\\xf9Y\\xbc\\xd0\\x86O=dYr<\\x01/<\\xbd\\x82P_=\\xf6,#=\\x90\\x88\\x05<\\xc9\\x10\\xb0; &\\xcf\\xbb\\xd4I#\\xbc\\x8b\\x07\\x12\\xbb\\xc4I\\xc1<_\\xca\\x83<\\xe5\\xcd\\xde\\xbc~h\\x1a=\\x83G\\x0c\\xbd\\r\\x15\\x8d\\xbc\\xa0\\xb0\\x80<\\x8d?1\\xbd\\xcd\\xc1\\xaf\\xbd0\\xf1\\xd9<\\x98\\x05&\\xbb\\xba\\\\\\xc4\\xbb!\\xbff=.07\\xbdm\\xecI\\xbdR/!\\xbd\\xa5v\\x1f\\xbdF\\xd9w<[\\xd4/=M\\x9f\\x0c\\xbdc\\xb6\\xd1<QJ\\xf6\\xbc\\xd5\\xef$\\xbdQzT;\\xdb\\x93\\x18\\xbd\\xf8\\xa7i=\\xed\\xe7S\\xbd\\x08\\xef\\xb8\\xba\\\\\\xea\\xec:;\\xbck<`\\xb7\\xf8:\\xcb\\xde\\xfd;\\xbd:\\n=\\x83\\xabC\\xbd|\\xec\\x16\\xbb\\xc7\\x96\\x96;[BL=\\xa4D\\xc8;\\x13\\x8ew\\xbd7\\xfaW\\xbb\\xbe\\x8d\\x06<vS\\x10\\xbd~\\x8a+<\\xda=\\xda;\\xc0R\\x13\\xbd\\x8f:n=\\x9e\\xa3\\x1d;L\\xadR\\xbd\\x1d\\xf4\\xd0\\xbc{C\\x05=\\x97\\xce$=\\x8a\\x12\\x8b<\\xca\\xae#=\\xab34\\xbd\\x9fM\\xaf\\xbd\\xfdX\\x18\\xbd\\xfb\\xe1\\x7f\\xbd6]\\xa8\\xbc\\xdeD\\xb7<\\x0c\\xfa\\xe4;0\\xc93\\xbd#\\xec\\x8b\\xbb+w\\xc3<.\\xf9\\x91<\\xf1\\xe3i=\\xfa\\xe8I\\xbd\\xd8\\xc5B\\xbbzy\\xd6<md\\x85\\xbd\\xb5\\x90\\\\\\xbd\\xda\\xc9r<1\\xf2\\'\\xbd\\xc7\\xb8\\xa3=\\xd7/\\xf5;%\\x93j\\xbd0\\xf8f=\\x8c-\\x96\\xbc\\xef\\x0f\\x9d\\xbd\\xa6R.\\xbd\\xb8.:\\xbb\\xcc\\xe1m\\xbd\\x98\\x03K;k?\\xfc\\xbc\\x16\\xe8L<)\\xe0\\'\\xbd7\\x1bD<\\x9fk\\x10;\\xae\\x8d,\\xbb\\xfaL\\x0b\\xbd\\xa4\\xfb\\x87\\xbb\\xaa\\xa9\\xdc<\\xe6y\\x14=##\\xbc<\\x9c\\xca\\xfe<\\xb3\\xf7]\\xbd\\x80\\x87\\x87=\\xee\\xe3\\x87\\xbb3\\x00\\xbf:\\x88\\x13@=8\\x0f\\x06\\xbd7d+=\\xc5\\\\\\xac\\xbaIj\\x80\\xbb\\xc4B\\xff\\xbaO\\xe6\\x00\\xbd\\x1b\\xb6\\x9c\\xbcT=\\x9a\\xbc\\x9c\\xb4\\x08\\xbd\\x9c\\xa52\\xbd\\xe8\\xca\\x93<\\x0fI\\x0e<\\x17iU\\xbd\\xf1\\xf409\\xb3|(\\xbd\\xc1Zx=\\xa2\\x18\\x9d\\xbc!\\xe7\\x82=\\x9e\\x0f\\x97\\xbb\\x8cR\\x98\\xbc\\x1da+\\xbd\\xc5\\xf3\\xbc;\\xba5#=\\xd30\\xf8;\\x0bE\\xb3<A\\\\\\xd3<\\x02Q\\x15\\xbd\\xca\\x89}\\xbc\\xb3ce\\xbc\\xda.\\xb7\\xbc=\\xbdH=\\xab\\xfa\\x12\\xba\\xdd\\xf2\\x9b<\\xfcH\\x9e<7c\"=\\xf3\\xab\\xaf\\xbd\\xe9\\x99\\xae\\xbcJF\\xc1<\\x01\\xcb\\x83\\xbb\\x06N\\xa7<(\\xaa\\x86:\\x1f\\x8e\\x15\\xbd\\x90\\xf6;=\\xe4Y\\x97\\xbd\\x072F\\xbdno\\xa8<\\xad\\xb6P=\\x12\\t\\x11<\\xee\\x98_=Ss\\xc7\\xbc\\xe9G|\\xbdu\\x02\\x00<K\\x06\\x92<\\xa9\\xb1\\x96\\xbc\\x1a(:=\\xba\\xf9s<\\x80\\xc8n;\\x04\\xfa%=k`\\x18\\xbc_y\\xee;n\\x86\\x06=\\xb0tV\\xbc\\x93\\t@=\\xdfC\\x1a\\xbd\\xd0N\\x95<\\x81U\\x87\\xbc\\x99\\xe9\\x14<\\x0fC\\xba\\xbd\\xd3\\x9a)=\\xfe\\xbe\\xda<\\xacj\\x84<@\\xd9[\\xbc\\xbb;\\x85<f\\xe3\\xce<\\x05T\\x86=D\\xf0\\x17=:k2=\\x14\\xc4\\xca<\\xcf\\xcf\\xe0<a\\xfe\\x88<4Z\\x9d\\xbdM\\xcf\\xa3<6\\xde\\x03=\\x9d_\\xae\\xbb\\x152>\\xbc\\xb9\\x96\\xc3<\\xc6\\x9a\\xdb\\x89\\x98l#;\\x97&\\xa7<\\t\\xc8\\x03\\xbd\\xaa\\xf0v=^\\x18s\\xbd\\xdb\\xf3+<$\\xa6\\x8d\\xbcl).\\xbc<YY\\xbd<\\xa8\\xf5\\xbb\\xe4\\xe5\\xbf<\\xcec\\x18\\xbc\\x13b\\xa8\\xba\\xaf\\x84\\x0c\\xba\\'[\\x1d==\\x019\\xbdU8\\x87\\xbc.\\xc0\\x19\\xbdx\\x15~<\\xc6`\\x1c=\\xe6\\x87\\x85\\xbc`\\x86x\\xbc\\t+\\xd3;\\x95I\\xd8\\xbb\\x14l<=Sm =\\xb9IJ=\\xa41\\x14=\\xb7\\xe4\\x14\\xbd\\xb0\\xeeP\\xbd\\xaeAa\\xbd\\n\\x07\\xb8<\\x8bW\\x9d<\\x87\\xb3\\xcb\\xbc:\\x19\\t=\\x92\\xca\\x05\\xbdq\\x8a\\xc7\\xbc\\xc9\\x0f.\\xbd\\xd2\\xd9(\\xba\\x81\\xa8\\xf6\\xbc\\t\\xc3\\x03\\xbd\\xceb{\\xbdP\\x91\\xcd<d\\x95\\xa2\\xbc\\x1aD];\\x88\\xbb\\xfb<)\\xb5E<j\\x96\\xc4\\xbc\\x85\\x9dF\\xbc\\xaeV\\x83\\xbd\\x83B\\x9d\\xbbd.\\xdd\\xbc\\xd6\\'\\x06\\xbd\\xcf\\x9dN;6\\xe4\\x07;@\\xda\\t\\xbd6}V\\xbc Q\\x83;\\xa1\\xa8-\\xbd\\xd0\\xc0\\x8b=F\\xc0\"=\\xf0\\xc6=\\xbc\\xf5\\x89\\x13\\xbd\\xf3\\xd0\\x8b;\\x97\\xbb\\x88= \\xbc\\r<\\xb9\\xbfr=~\\xda*=9p\\x84\\xbd\\xd8\\xbb\\xd3\\xbc\\x85\\xb2\\x9c<J6r=\\xe9\\x8a\\x7f;U\\r\\xac\\xbbu\\x92^\\xbc\\x90\\x80\\xcf\\xbc\\xde\\xc4}\\xbdFM\\x99<\\xa3\\x1e\\x1e=z\\xb7\\xa2;\\xa3\\xca\\xbb;V\\xe31\\xbc_k\\x15\\xbdL\\x9c\"\\xbd\\x10)v=lm\\xdb\\xbcU\\xc0c<\\xfd\\xc7\\x0c<S\\xc1|\\xbd\\xad\\xff@\\xbdz\\xa5[=\\x1b\\xc7\\x97\\xbc\\xd3\\xd7*\\xbcB\\xa7\\x85\\xbd\\x82\\xcfX<\\xfc\\xa5\\x1e\\xbd\\x94\\xe9\\x85=\\xfb\\xf3\\xbf<\\xc9\\xc1\\x13=\\xf0t\\xdd\\xba\\xb6\\x19R<;Q\\r\\xbd3\\xda\\x04\\xbd\\xee3\\xa5=%\\xf3w\\xba\\xbbQ\\x15\\xbb\\x8a)\\xb3\\xbc\\x15b\\xac<\\xdc\\x83E=\\xfcd\\xc9\\xbcW\\x95\\x8d<i\\xe9\\x92\\xbd8\\x17\\x05=]\\x9f:\\xbd\\x19*\\x9d\\xb8\\x17\\xb8\\xae:\\xef\\xe5`;\\xca\\xd5\\xa1\\xbcL+\"<\\n,!=;+\\x91;n\\xea\\xad=V\\x08\\x14\\xbd-*M=j\\'z\\xbc=\\x8b\\xd6:]\\xd8\\x8a\\xbd\\xde+\\x13=\\x04\\x8b\\x8c<\\xe7{q\\xbdQ9\\xb3\\xbb0\\x01\"=\\xad\\xfe\\x8b4\\x15Z\\x08\\xbd\\xac<\\xe7:\\x0f,\\xab\\xbb$q\\x8e\\xbd\\x17\\x85;=\\x08/\\xfe;3}\\xfb8\\'\\\\)\\xbc&\\xb4~\\xbc*\\x92\\x0e\\xbd\\x00\\xdd>=ctw\\xbc\\\\\\xf9\\x07\\xbd\\x9a\\xe8\\xcd;\\x89\\xfd%\\xbcB\\x9a\\xce\\xbd#\\x97\\xab<T6\\x16\\xbd_\\xeb\\x9a<\\xcd\\x95\\x99;\\xb5\\x0e\\x8b\\xbbE\\xcf\\xa4\\xbb\\xe30\\xd9<Q\\x07\\xac<\\x08\\xde\\xe3<W\\xfd\\x1a<\\xbd\\x03\\x9c\\xbc\\x1e\\x9c\\x1e\\xbd\\xe2,\\x94=\\x8e\\x95\\x93<n\\xe9\\xb4<a\\x8e\\xc5\\xbaz!a\\xbc\\x97\\xb8\\x97\\xbc\\xf7~l<\\xc4m\\xff\\xbc\\xfc\\xd1\\xe4\\xbc\\x1e\\xd3k\\xbd\\x11h.=\\xb6\\xead=q\\xe6\\xf0\\xbb\\xe3P\\x0c\\xbd\\xbc!\\x83\\xbc\\xdb.\\xe9\\xbc\\xa4\\xdd\\x85=h\\x1a\\xf5\\xbc=\\x01p\\xbd,\\xe8\\xa2<5x\\xb6\\xbc\\xd3HX\\xbc\\xbf\\xec-\\xbc\\x80v\\x1b<S\\xcd-\\xbc\\xa1\\xcf0<\\xb2\\x883\\xbd\\x7f\\x96g\\xbc2\\xc7\\xcb<n\\x14\\x89\\xbd\\xc4P\\x16=\\x801&=\\x1dN\\x1b\\xbbI\\x97\\x84\\xbc\\xe0y5\\xbd\\xcaC\\'\\xbd\\xdfw\\xc3=\\x80C\\xe2\\xbc\\x8des<\\x15\\xa9X\\x07\\x88\\xfce<\\x02\\xaan\\xbc\\xd1\\xa6!=\\xd7[\\xa5\\xbd\\xbf\\x83?\\xbd\\x12\\xf3\\xc5<\\xb2\\xe3>\\xbd\\xc1\\xc5\\xbd\\xbc\\'R\\x19=\\xf4\\xfd\\x98\\xbd\\xe4\\xf7\\xe2\\xbc'"
      ]
     },
     "execution_count": 19,
     "metadata": {},
     "output_type": "execute_result"
    }
   ],
   "source": [
    "vector"
   ]
  },
  {
   "cell_type": "code",
   "execution_count": 20,
   "id": "72409554-838f-45a1-9b84-727e41ce610d",
   "metadata": {},
   "outputs": [
    {
     "data": {
      "text/plain": [
       "b'cs.IT|cs.AI|math.IT|q-bio.PE'"
      ]
     },
     "execution_count": 20,
     "metadata": {},
     "output_type": "execute_result"
    }
   ],
   "source": [
    "redis_client.hget(paper_vector_key, \"categories\")"
   ]
  },
  {
   "cell_type": "code",
   "execution_count": 27,
   "id": "0cb4ecb5-dfa2-4149-ad04-2d88f6e03fa2",
   "metadata": {},
   "outputs": [],
   "source": [
    "def find_papers_by_text():\n",
    "    # Create query\n",
    "    query = search_index.vector_query(\n",
    "        [],\n",
    "        [],\n",
    "        \"KNN\",\n",
    "        5\n",
    "    )\n",
    "    \n",
    "        #     similarity_request.categories,\n",
    "        # similarity_request.years,\n",
    "        # similarity_request.search_type,\n",
    "        # similarity_request.number_of_results\n",
    "\n",
    "    # find the vector of the Paper listed in the request\n",
    "    paper_vector_key = \"paper_vector:0704.0304\"\n",
    "    vector = redis_client.hget(paper_vector_key, \"vector\")\n",
    "\n",
    "    # obtain results of the queries\n",
    "    results = redis_client.ft(config.INDEX_NAME).search(query, query_params={\"vec_param\": vector})\n",
    "    # Get Paper records of those results\n",
    "    return results"
   ]
  },
  {
   "cell_type": "code",
   "execution_count": 28,
   "id": "b4865e9d-a77f-47ea-a122-7f19e4ec8876",
   "metadata": {},
   "outputs": [
    {
     "data": {
      "text/plain": [
       "Result{5 total, docs: [Document {'id': 'paper_vector:0704.0304', 'payload': None, 'vector_score': '0', 'paper_id': '0704.0304', 'paper_pk': '01GGWEBFNDBJTYPSDV77W2GRSC'}, Document {'id': 'paper_vector:1103.1791', 'payload': None, 'vector_score': '0.372496724129', 'paper_id': '1103.1791', 'paper_pk': '01GGWEBQ5VC52NWX6ATQBSHJK9'}, Document {'id': 'paper_vector:0912.4649', 'payload': None, 'vector_score': '0.41434186697', 'paper_id': '0912.4649', 'paper_pk': '01GGWEBM26BT418SW7C8T6S5DN'}, Document {'id': 'paper_vector:1008.3800', 'payload': None, 'vector_score': '0.416849195957', 'paper_id': '1008.3800', 'paper_pk': '01GGWEBNQ3H6HCD25K0H2VNHQY'}, Document {'id': 'paper_vector:1202.6153', 'payload': None, 'vector_score': '0.451893389225', 'paper_id': '1202.6153', 'paper_pk': '01GGWEBVHPFNEAA9DCW11M2R1H'}]}"
      ]
     },
     "execution_count": 28,
     "metadata": {},
     "output_type": "execute_result"
    }
   ],
   "source": [
    "find_papers_by_text()"
   ]
  },
  {
   "cell_type": "code",
   "execution_count": null,
   "id": "26e4beb2-52c7-499e-a392-430cc5c4966e",
   "metadata": {},
   "outputs": [],
   "source": []
  }
 ],
 "metadata": {
  "kernelspec": {
   "display_name": "Python 3.7.13 64-bit ('3.7.13')",
   "language": "python",
   "name": "python3"
  },
  "language_info": {
   "codemirror_mode": {
    "name": "ipython",
    "version": 3
   },
   "file_extension": ".py",
   "mimetype": "text/x-python",
   "name": "python",
   "nbconvert_exporter": "python",
   "pygments_lexer": "ipython3",
   "version": "3.7.13"
  },
  "vscode": {
   "interpreter": {
    "hash": "94925c846839d9df1207aa4dfd2c1f517584ebd3d132cb433dbab1cad8350469"
   }
  }
 },
 "nbformat": 4,
 "nbformat_minor": 5
}
